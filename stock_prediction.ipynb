{
  "nbformat": 4,
  "nbformat_minor": 0,
  "metadata": {
    "colab": {
      "name": "stock_prediction.ipynb",
      "version": "0.3.2",
      "provenance": [],
      "collapsed_sections": [],
      "include_colab_link": true
    },
    "kernelspec": {
      "name": "python3",
      "display_name": "Python 3"
    }
  },
  "cells": [
    {
      "cell_type": "markdown",
      "metadata": {
        "id": "view-in-github",
        "colab_type": "text"
      },
      "source": [
        "<a href=\"https://colab.research.google.com/github/tofu-it/machine-learning-course/blob/master/stock_prediction.ipynb\" target=\"_parent\"><img src=\"https://colab.research.google.com/assets/colab-badge.svg\" alt=\"Open In Colab\"/></a>"
      ]
    },
    {
      "cell_type": "markdown",
      "metadata": {
        "id": "o-DQ_sn50GIG",
        "colab_type": "text"
      },
      "source": [
        "Homework Week 2:  Perform linear regression on stock data from Yahoo!Finance, and  predict future values with a 80%/20% Training/Test Split. Use three different linear regression methods from Scikit-learn to predict stock prices. Plot the results.\n",
        "\n",
        "\n",
        "The following solutions uses code from the Youtube ML playlist:\n",
        "\n",
        "Regression forecasting and predicting - Practical Machine Learning Tutorial with Python \n",
        "\n",
        "https://www.youtube.com/watch?v=QLVMqwpOLPk&list=PLQVvvaa0QuDfKTOs3Keq_kaG2P55YRn5v\n",
        "\n",
        "and also some helpful code snippeds from the solution provided by user \"rayryeng\" on the Slack Channel\n",
        "\n",
        "https://nbviewer.jupyter.org/github/rayryeng/make-money-ml-course/blob/master/week2/Week_2_Make_Money_with_Machine_Learning_Homework.ipynb"
      ]
    },
    {
      "cell_type": "code",
      "metadata": {
        "id": "LQgk-I9Tt3Lz",
        "colab_type": "code",
        "colab": {}
      },
      "source": [
        "from datetime import timedelta\n",
        "from datetime import datetime \n",
        "import pandas as pd\n",
        "import matplotlib.pyplot as plt\n",
        "from matplotlib import style\n",
        "%matplotlib inline\n",
        "import math\n",
        "import datetime, time\n",
        "import numpy as np\n",
        "from sklearn import linear_model\n",
        "from sklearn import preprocessing, svm, model_selection\n",
        "from sklearn.linear_model import LinearRegression\n",
        "from sklearn.linear_model import Ridge\n",
        "from sklearn.linear_model import OrthogonalMatchingPursuit\n",
        "from sklearn.model_selection import cross_validate\n",
        "from sklearn.model_selection import train_test_split\n",
        "from google.colab import files \n",
        "import io\n"
      ],
      "execution_count": 0,
      "outputs": []
    },
    {
      "cell_type": "code",
      "metadata": {
        "id": "jLjxUeP4uL6n",
        "colab_type": "code",
        "outputId": "8029788b-4eab-4eaf-d4c4-9537e11e3a78",
        "colab": {
          "base_uri": "https://localhost:8080/",
          "height": 246
        }
      },
      "source": [
        "\n",
        "df = pd.read_csv('GOOG.csv')\n",
        "\n",
        "\n",
        "#Indexing the date\n",
        "df.set_index('Date', inplace=True)\n",
        "\n",
        "\n",
        "#making a copy of the original data, just in case we need a later reference to the unaltered data\n",
        "original = df.copy()\n",
        "\n",
        "#Checking how the data acually looks like (colums, dates, etc.)\n",
        "#df.head()\n",
        "df.tail()"
      ],
      "execution_count": 124,
      "outputs": [
        {
          "output_type": "error",
          "ename": "KeyError",
          "evalue": "ignored",
          "traceback": [
            "\u001b[0;31m---------------------------------------------------------------------------\u001b[0m",
            "\u001b[0;31mKeyError\u001b[0m                                  Traceback (most recent call last)",
            "\u001b[0;32m<ipython-input-124-a4aa7b73645e>\u001b[0m in \u001b[0;36m<module>\u001b[0;34m()\u001b[0m\n\u001b[1;32m      1\u001b[0m \u001b[0;34m\u001b[0m\u001b[0m\n\u001b[0;32m----> 2\u001b[0;31m \u001b[0mdf\u001b[0m \u001b[0;34m=\u001b[0m \u001b[0mpd\u001b[0m\u001b[0;34m.\u001b[0m\u001b[0mread_csv\u001b[0m\u001b[0;34m(\u001b[0m\u001b[0mio\u001b[0m\u001b[0;34m.\u001b[0m\u001b[0mBytesIO\u001b[0m\u001b[0;34m(\u001b[0m\u001b[0muploaded\u001b[0m\u001b[0;34m[\u001b[0m\u001b[0;34m'GOOG.csv'\u001b[0m\u001b[0;34m]\u001b[0m\u001b[0;34m)\u001b[0m\u001b[0;34m)\u001b[0m\u001b[0;34m\u001b[0m\u001b[0;34m\u001b[0m\u001b[0m\n\u001b[0m\u001b[1;32m      3\u001b[0m \u001b[0;34m\u001b[0m\u001b[0m\n\u001b[1;32m      4\u001b[0m \u001b[0;34m\u001b[0m\u001b[0m\n\u001b[1;32m      5\u001b[0m \u001b[0;31m#Indexing the date\u001b[0m\u001b[0;34m\u001b[0m\u001b[0;34m\u001b[0m\u001b[0;34m\u001b[0m\u001b[0m\n",
            "\u001b[0;31mKeyError\u001b[0m: 'GOOG.csv'"
          ]
        }
      ]
    },
    {
      "cell_type": "markdown",
      "metadata": {
        "id": "xg7KrMBeY9h5",
        "colab_type": "text"
      },
      "source": [
        "Plotting the data quickly - because we can :-)"
      ]
    },
    {
      "cell_type": "code",
      "metadata": {
        "id": "dasFjy_GxHL3",
        "colab_type": "code",
        "colab": {}
      },
      "source": [
        "df['Adj Close'].plot(label='TSLA', figsize=(16,8), title='Adjusted Closing Price', grid=True)"
      ],
      "execution_count": 0,
      "outputs": []
    },
    {
      "cell_type": "markdown",
      "metadata": {
        "id": "GOl8jJxTUhvI",
        "colab_type": "text"
      },
      "source": [
        "Picking the rows we gonna use for the prediction by considering relationships. I.e. Open and Closing Prices are a direct indication if the price went up or down, also the margin tells us a bit of voilatility for the day.\n",
        "Apparently, a simple linear regression would not do necessarily find out these relationships, so we also need to define them. Then we can use those relationships as features rather than just the plain prices.\n",
        "\n",
        "New column: Percent Voilatility (HL_PCT)is given by High - Low\n",
        "\n",
        "New Colum: Percentual Change (PCT_change)\n",
        "\n",
        "Note: Volume seems to be relevant for voilatility, so we keep that as well.\n",
        "\n"
      ]
    },
    {
      "cell_type": "code",
      "metadata": {
        "id": "N7t7GkCTxXmV",
        "colab_type": "code",
        "colab": {}
      },
      "source": [
        "df = df[['Open', 'High','Low','Close','Adj Close','Volume',]]\n",
        "df['HL_PCT'] = (df['High'] - df['Close']) / df['Close'] * 100.0\n",
        "df['PCT_change'] = (df['Close'] - df['Open']) / df['Open'] * 100.0\n",
        "\n",
        "#Selecting the columns we only need and forgetting everything else\n",
        "df=df[['Adj Close','HL_PCT','PCT_change','Volume']]\n",
        "\n",
        "#Right now, we are using stock prices, and want to forecast \"Adj Close\" if possible. \n",
        "#To make the layout more flexible, we define that intention here, so we can easily \n",
        "#change it later for other purposes, withouth having to go to the rest of the code \n",
        "#and change all the columns there  \n",
        "forecast_col = 'Adj Close'\n"
      ],
      "execution_count": 0,
      "outputs": []
    },
    {
      "cell_type": "code",
      "metadata": {
        "id": "rN3OT7nf1RSB",
        "colab_type": "code",
        "colab": {}
      },
      "source": [
        "#data = df['Adj Close'].values[:]\n",
        "#just curious how much datasets we actually have, so just printing that out.\n",
        "print(len(df))\n"
      ],
      "execution_count": 0,
      "outputs": []
    },
    {
      "cell_type": "code",
      "metadata": {
        "id": "2gGnqXE9xhPU",
        "colab_type": "code",
        "colab": {}
      },
      "source": [
        "#fill non existing colums with something\n",
        "df.fillna(-99999, inplace=True)\n",
        "\n",
        "#forcast only 10% of the whole dataframe\n",
        "forecast_out = int(math.ceil(0.01*len(df)))"
      ],
      "execution_count": 0,
      "outputs": []
    },
    {
      "cell_type": "markdown",
      "metadata": {
        "id": "G9ICisjgcjZF",
        "colab_type": "text"
      },
      "source": [
        "And now with everything set, we apply a regression algorithm\n",
        "\n",
        "\n",
        "---\n",
        "\n"
      ]
    },
    {
      "cell_type": "code",
      "metadata": {
        "id": "5B7D_uLQxspT",
        "colab_type": "code",
        "colab": {}
      },
      "source": [
        "#we only have features above, so let's create a label now\n",
        "#Value will be the 'Adj Close' value from 10 days (or what ever we have defined \n",
        "#as a 'forecast_out shift'). In other words, we copy the 'Adj Close' column to\n",
        "#a new colum named 'label', and move this whole colum ten rows back. \n",
        "\n",
        "df['label'] = df[forecast_col].shift(-forecast_out)\n",
        "\n",
        "\n",
        "#Note: Features are attributes of something, that we think, may cause the \n",
        "# given price in 10 days in the future\n",
        "\n",
        "\n",
        "#checking on the result\n",
        "df.head()\n",
        "\n",
        "\n"
      ],
      "execution_count": 0,
      "outputs": []
    },
    {
      "cell_type": "code",
      "metadata": {
        "id": "w2FXr8IDhS9N",
        "colab_type": "code",
        "colab": {}
      },
      "source": [
        "#Defining our training datasets \n",
        "X = np.array(df.drop(['label'],1))\n",
        "X = preprocessing.scale(X)\n",
        "X_lately = X[-forecast_out:]\n",
        "X = X[:-forecast_out:]\n",
        "\n",
        "df.dropna(inplace=True)\n",
        "y = np.array(df['label'])\n"
      ],
      "execution_count": 0,
      "outputs": []
    },
    {
      "cell_type": "code",
      "metadata": {
        "id": "oUx_op7zlLEI",
        "colab_type": "code",
        "colab": {}
      },
      "source": [
        "#let's train, and test it with 20% (size=0.2) of the data\n",
        "\n",
        "X_train, X_test, y_train, y_test = model_selection.train_test_split(X, y, test_size=0.2)\n",
        "\n",
        "#X_train and y_train is used to fit our classifier\n",
        "#defining our first classifier, using basic LinearRegression (Ordinary Least Squares) \n",
        "clf = LinearRegression() #Note: Test the n_jobs argument for threading\n",
        "#train it with X_train and y_train\n",
        "clf.fit(X_train, y_train)"
      ],
      "execution_count": 0,
      "outputs": []
    },
    {
      "cell_type": "code",
      "metadata": {
        "id": "bWF6Cw66zxVF",
        "colab_type": "code",
        "colab": {}
      },
      "source": [
        "#'fit' is synonymous with 'train score'  is synonymous with 'test'\n",
        "# so, a simple way to check out how accurate our prediction may be\n",
        "accuracy = clf.score(X_test,y_test)\n",
        "print (accuracy)\n",
        "#Note to self: Accuracy is the squared error"
      ],
      "execution_count": 0,
      "outputs": []
    },
    {
      "cell_type": "code",
      "metadata": {
        "id": "Z7zhC2tHz8ZW",
        "colab_type": "code",
        "colab": {}
      },
      "source": [
        "#predict on the classifier (X), can be single value, or array (x_lately, \n",
        "#which should be 24 days in advance (the value of forecast_out))"
      ],
      "execution_count": 0,
      "outputs": []
    },
    {
      "cell_type": "markdown",
      "metadata": {
        "id": "yPWVSsD69wSB",
        "colab_type": "text"
      },
      "source": [
        "Preparation to plot the graph. Could need some improvement"
      ]
    },
    {
      "cell_type": "code",
      "metadata": {
        "id": "RdF44NT-0hP7",
        "colab_type": "code",
        "colab": {}
      },
      "source": [
        "#New empty column with no data\n",
        "df['Forecast_LR'] = np.nan\n",
        "\n",
        "#creating additional rows for the predicted data\n",
        "last_date = df.iloc[-1].name\n",
        "nextday = datetime.datetime.strptime(last_date, '%Y-%m-%d').date() + timedelta(days=1)\n",
        "for i in forecast_set:\n",
        "    next_date = nextday\n",
        "    nextday += timedelta(days=1)\n",
        "    #print (nextday)\n",
        "    df.loc[next_date] = [np.nan for _ in range(len(df.columns)-1)] + [i]\n",
        "    \n",
        "df.tail()"
      ],
      "execution_count": 0,
      "outputs": []
    },
    {
      "cell_type": "code",
      "metadata": {
        "id": "JxniVTrD1-i4",
        "colab_type": "code",
        "colab": {}
      },
      "source": [
        "df['Adj Close'][-50:].plot(figsize=(26,8))\n",
        "df['Forecast_LR'][-50:].plot(figsize=(26,8))\n",
        "original['Adj Close'][-50:].plot(figsize=(26,8))\n",
        "plt.legend(loc=4)\n",
        "plt.xlabel('Date')\n"
      ],
      "execution_count": 0,
      "outputs": []
    },
    {
      "cell_type": "code",
      "metadata": {
        "id": "T-xY6wSeLaJf",
        "colab_type": "code",
        "colab": {}
      },
      "source": [
        "# 2nd Method of linear regression: Lasso\n",
        "\n",
        "clf = linear_model.Lasso(alpha=0.1)\n",
        "#clf = svm.SVR(gamma='scale') #Adjust 'kernel' variable\n",
        "#train it with X_train and y_train\n",
        "clf.fit(X_train, y_train)"
      ],
      "execution_count": 0,
      "outputs": []
    },
    {
      "cell_type": "code",
      "metadata": {
        "id": "wy7atE7JLkAs",
        "colab_type": "code",
        "colab": {}
      },
      "source": [
        "accuracy = clf.score(X_test,y_test)\n",
        "print (accuracy)"
      ],
      "execution_count": 0,
      "outputs": []
    },
    {
      "cell_type": "code",
      "metadata": {
        "id": "QfvzhgdULlZU",
        "colab_type": "code",
        "colab": {}
      },
      "source": [
        "#predict on the classifier (X), can be single value, or array (x_lately, \n",
        "#which should be 24 days in advance (the value of forecast_out))\n",
        "forecast_set = clf.predict(X_lately)"
      ],
      "execution_count": 0,
      "outputs": []
    },
    {
      "cell_type": "code",
      "metadata": {
        "id": "QeYLP-QIQoUC",
        "colab_type": "code",
        "colab": {}
      },
      "source": [
        "#New empty column for the Lasso results\n",
        "df['Forecast_Lasso'] = np.nan\n",
        "df['Forecast_Lasso'][-forecast_out:]=forecast_set\n",
        "df.tail()"
      ],
      "execution_count": 0,
      "outputs": []
    },
    {
      "cell_type": "code",
      "metadata": {
        "id": "of2MSX_LLzuL",
        "colab_type": "code",
        "colab": {}
      },
      "source": [
        "df['Forecast_Lasso'][-50:].plot(figsize=(26,8))\n",
        "original['Adj Close'][-50:].plot(figsize=(26,8))\n",
        "plt.legend(loc=4)\n",
        "plt.xlabel('Date')"
      ],
      "execution_count": 0,
      "outputs": []
    },
    {
      "cell_type": "code",
      "metadata": {
        "id": "eY9piKipYSK9",
        "colab_type": "code",
        "colab": {}
      },
      "source": [
        "# 3th training method of linear regression: Ridge\n",
        "clf = Ridge()\n",
        "clf.fit(X_train, y_train)"
      ],
      "execution_count": 0,
      "outputs": []
    },
    {
      "cell_type": "code",
      "metadata": {
        "id": "B7sfaqc6YZe8",
        "colab_type": "code",
        "colab": {}
      },
      "source": [
        "accuracy = clf.score(X_test,y_test)\n",
        "print (accuracy)"
      ],
      "execution_count": 0,
      "outputs": []
    },
    {
      "cell_type": "code",
      "metadata": {
        "id": "orXXR_J4YdHU",
        "colab_type": "code",
        "colab": {}
      },
      "source": [
        "#predict on the classifier (X), can be single value, or array (x_lately, \n",
        "#which should be 24 days in advance (the value of forecast_out))\n",
        "forecast_set = clf.predict(X_lately)"
      ],
      "execution_count": 0,
      "outputs": []
    },
    {
      "cell_type": "code",
      "metadata": {
        "id": "72k8K81zYj6s",
        "colab_type": "code",
        "colab": {}
      },
      "source": [
        "#New empty column with no data\n",
        "df['Forecast_Ridge'] = np.nan\n",
        "df['Forecast_Ridge'][-forecast_out:]=forecast_set\n",
        "df.tail()"
      ],
      "execution_count": 0,
      "outputs": []
    },
    {
      "cell_type": "code",
      "metadata": {
        "id": "BSYajPI-fpgs",
        "colab_type": "code",
        "colab": {}
      },
      "source": [
        "df['Forecast_Ridge'][-50:].plot(figsize=(26,8))\n",
        "original['Adj Close'][-50:].plot(figsize=(26,8))\n",
        "plt.legend(loc=4)\n",
        "plt.xlabel('Date')"
      ],
      "execution_count": 0,
      "outputs": []
    },
    {
      "cell_type": "markdown",
      "metadata": {
        "id": "YUMV2q7KgBSr",
        "colab_type": "text"
      },
      "source": [
        "Now everything together in a single chart. What's remarkable is Basic Linear Regression and are Ridge basically overlapping, altough the \"tail\" outputs show some small differences. Overall, the general trend is well reflected by all methods.  "
      ]
    },
    {
      "cell_type": "code",
      "metadata": {
        "id": "qj0ngSTpbLJz",
        "colab_type": "code",
        "colab": {}
      },
      "source": [
        "df['Forecast_LR'][-40:].plot(figsize=(26,15))\n",
        "df['Forecast_Lasso'][-40:].plot(figsize=(26,15))\n",
        "df['Forecast_Ridge'][-40:].plot(figsize=(26,15))\n",
        "original['Adj Close'][-40:].plot(figsize=(26,15))\n",
        "plt.legend(loc=1)\n",
        "plt.xlabel('Date')\n",
        "plt.ylabel('Price at Close')"
      ],
      "execution_count": 0,
      "outputs": []
    },
    {
      "cell_type": "code",
      "metadata": {
        "id": "ST-8xNmSbcnU",
        "colab_type": "code",
        "colab": {}
      },
      "source": [
        ""
      ],
      "execution_count": 0,
      "outputs": []
    }
  ]
}